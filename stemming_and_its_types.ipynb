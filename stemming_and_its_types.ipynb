{
 "cells": [
  {
   "cell_type": "markdown",
   "metadata": {},
   "source": [
    "Stemming \n",
    "\n",
    "Stemming is the process of reducing a word to its word that affixes to suffixes and prefixes or the rooots of the words known as lemma.Stemming is important in natural language Understanding(NLU) and Natural language processsing(NLP)."
   ]
  },
  {
   "cell_type": "code",
   "execution_count": null,
   "metadata": {
    "vscode": {
     "languageId": "plaintext"
    }
   },
   "outputs": [],
   "source": []
  }
 ],
 "metadata": {
  "language_info": {
   "name": "python"
  }
 },
 "nbformat": 4,
 "nbformat_minor": 2
}
